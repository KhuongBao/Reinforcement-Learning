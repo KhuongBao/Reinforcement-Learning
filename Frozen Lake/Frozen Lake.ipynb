{
 "cells": [
  {
   "cell_type": "code",
   "execution_count": 1,
   "metadata": {},
   "outputs": [],
   "source": [
    "import gymnasium as gym\n",
    "import numpy as np"
   ]
  },
  {
   "cell_type": "markdown",
   "metadata": {},
   "source": [
    "Initiallizing environment"
   ]
  },
  {
   "cell_type": "code",
   "execution_count": 9,
   "metadata": {},
   "outputs": [],
   "source": [
    "env = gym.make('FrozenLake-v1', render_mode = \"human\", is_slippery = False) # desc=[\"SFFF\", \"FHFH\", \"FFFH\", \"HFFG\"]\n",
    "env.metadata[\"render_fps\"] = 120\n"
   ]
  },
  {
   "cell_type": "markdown",
   "metadata": {},
   "source": [
    "Q-Table"
   ]
  },
  {
   "cell_type": "code",
   "execution_count": 13,
   "metadata": {},
   "outputs": [],
   "source": [
    "n_states = env.observation_space.n # 16\n",
    "n_actions = env.action_space.n # 4\n",
    "\n",
    "Q = np.zeros((n_states, n_actions))\n",
    "\n",
    "learning_rate = 0.9\n",
    "discount_factor = 0.85\n",
    "epsilon = 1\n",
    "epsilon_decay = 0.0001\n",
    "\n",
    "episodes = 1000\n",
    "\n",
    "rewards_per_episode = np.zeros(episodes)\n",
    "\n",
    "for episode in range(episodes):\n",
    "    state, info = env.reset()\n",
    "    terminated, truncated = False, False\n",
    "\n",
    "    while (not truncated and not terminated):\n",
    "        if np.random.rand() < epsilon:\n",
    "            action = env.action_space.sample()\n",
    "        else:\n",
    "            action = np.argmax(Q[state, :])\n",
    "\n",
    "        next_state, reward, terminated, truncated, info = env.step(action)\n",
    "\n",
    "        Q[state,action] = Q[state,action] + learning_rate * (\n",
    "                        reward + discount_factor * np.max(Q[next_state,:]) - Q[state,action]\n",
    "        )\n",
    "        \n",
    "        state = next_state\n",
    "\n",
    "    epsilon = max(epsilon - epsilon_decay, 0)\n",
    "\n",
    "    if(epsilon==0):\n",
    "        learning_rate_a = 0.0001\n",
    "\n",
    "    if reward == 1:\n",
    "        rewards_per_episode[episode] = 1\n"
   ]
  },
  {
   "cell_type": "code",
   "execution_count": 16,
   "metadata": {},
   "outputs": [
    {
     "data": {
      "text/plain": [
       "array([[0.37714952, 0.44370531, 0.44370531, 0.37714952],\n",
       "       [0.37714952, 0.        , 0.52200625, 0.44370531],\n",
       "       [0.44370531, 0.614125  , 0.44370531, 0.52200625],\n",
       "       [0.52200625, 0.        , 0.44370531, 0.44370531],\n",
       "       [0.44370531, 0.52200625, 0.        , 0.37714952],\n",
       "       [0.        , 0.        , 0.        , 0.        ],\n",
       "       [0.        , 0.7225    , 0.        , 0.52200625],\n",
       "       [0.        , 0.        , 0.        , 0.        ],\n",
       "       [0.52200625, 0.        , 0.614125  , 0.44370531],\n",
       "       [0.52200625, 0.7225    , 0.7225    , 0.        ],\n",
       "       [0.614125  , 0.85      , 0.        , 0.614125  ],\n",
       "       [0.        , 0.        , 0.        , 0.        ],\n",
       "       [0.        , 0.        , 0.        , 0.        ],\n",
       "       [0.        , 0.7225    , 0.85      , 0.614125  ],\n",
       "       [0.7225    , 0.85      , 1.        , 0.7225    ],\n",
       "       [0.        , 0.        , 0.        , 0.        ]])"
      ]
     },
     "execution_count": 16,
     "metadata": {},
     "output_type": "execute_result"
    }
   ],
   "source": [
    "Q"
   ]
  },
  {
   "cell_type": "markdown",
   "metadata": {},
   "source": [
    "Graph of Rewards over Episodes"
   ]
  },
  {
   "cell_type": "code",
   "execution_count": 17,
   "metadata": {},
   "outputs": [
    {
     "data": {
      "text/plain": [
       "[<matplotlib.lines.Line2D at 0x272725bab10>]"
      ]
     },
     "execution_count": 17,
     "metadata": {},
     "output_type": "execute_result"
    },
    {
     "data": {
      "image/png": "[encoded data removed]",
      "text/plain": [
       "<Figure size 640x480 with 1 Axes>"
      ]
     },
     "metadata": {},
     "output_type": "display_data"
    }
   ],
   "source": [
    "import matplotlib.pyplot as plt \n",
    "\n",
    "sum_rewards = np.zeros(episodes)\n",
    "for t in range(episodes):\n",
    "    sum_rewards[t] = np.sum(rewards_per_episode[max(0, t-100):(t+1)])\n",
    "plt.plot(sum_rewards)"
   ]
  },
  {
   "cell_type": "markdown",
   "metadata": {},
   "source": [
    "Testing"
   ]
  },
  {
   "cell_type": "code",
   "execution_count": 19,
   "metadata": {},
   "outputs": [
    {
     "name": "stdout",
     "output_type": "stream",
     "text": [
      "0 [0.37714952 0.44370531 0.44370531 0.37714952]\n",
      "4\n",
      "4 [0.44370531 0.52200625 0.         0.37714952]\n",
      "8\n",
      "8 [0.52200625 0.         0.614125   0.44370531]\n",
      "9\n",
      "9 [0.52200625 0.7225     0.7225     0.        ]\n",
      "13\n",
      "13 [0.       0.7225   0.85     0.614125]\n",
      "14\n",
      "14 [0.7225 0.85   1.     0.7225]\n",
      "15\n"
     ]
    }
   ],
   "source": [
    "import time\n",
    "\n",
    "state, _ = env.reset()\n",
    "terminated, truncated = False, False\n",
    "\n",
    "while not terminated and not truncated:\n",
    "    action = np.argmax(Q[state, :])\n",
    "    print(state, Q[state, :])\n",
    "    next_state, _, terminated, truncated, _ = env.step(action)\n",
    "    print(next_state)\n",
    "    state = next_state\n",
    "\n",
    "    env.render()\n",
    "\n",
    "    time.sleep(1)"
   ]
  }
 ],
 "metadata": {
  "kernelspec": {
   "display_name": "Python 3",
   "language": "python",
   "name": "python3"
  },
  "language_info": {
   "codemirror_mode": {
    "name": "ipython",
    "version": 3
   },
   "file_extension": ".py",
   "mimetype": "text/x-python",
   "name": "python",
   "nbconvert_exporter": "python",
   "pygments_lexer": "ipython3",
   "version": "3.11.5"
  }
 },
 "nbformat": 4,
 "nbformat_minor": 2
}
